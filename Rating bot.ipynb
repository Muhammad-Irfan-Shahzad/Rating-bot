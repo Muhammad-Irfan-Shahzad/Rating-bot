{
 "cells": [
  {
   "cell_type": "code",
   "execution_count": 6,
   "id": "b8234571",
   "metadata": {},
   "outputs": [],
   "source": [
    "import pandas as pd\n",
    "import warnings\n",
    "warnings.filterwarnings('ignore')\n",
    "from sklearn.feature_extraction.text import CountVectorizer,TfidfTransformer\n",
    "df = pd.read_csv('reviews.csv')"
   ]
  },
  {
   "cell_type": "code",
   "execution_count": 7,
   "id": "75fe9755",
   "metadata": {},
   "outputs": [
    {
     "data": {
      "text/html": [
       "<div>\n",
       "<style scoped>\n",
       "    .dataframe tbody tr th:only-of-type {\n",
       "        vertical-align: middle;\n",
       "    }\n",
       "\n",
       "    .dataframe tbody tr th {\n",
       "        vertical-align: top;\n",
       "    }\n",
       "\n",
       "    .dataframe thead th {\n",
       "        text-align: right;\n",
       "    }\n",
       "</style>\n",
       "<table border=\"1\" class=\"dataframe\">\n",
       "  <thead>\n",
       "    <tr style=\"text-align: right;\">\n",
       "      <th></th>\n",
       "      <th>Reviews</th>\n",
       "      <th>Rating</th>\n",
       "    </tr>\n",
       "  </thead>\n",
       "  <tbody>\n",
       "    <tr>\n",
       "      <th>0</th>\n",
       "      <td>The product is fairly good but it has scratche...</td>\n",
       "      <td>Average</td>\n",
       "    </tr>\n",
       "    <tr>\n",
       "      <th>1</th>\n",
       "      <td>Not same as told in the description</td>\n",
       "      <td>Poor</td>\n",
       "    </tr>\n",
       "    <tr>\n",
       "      <th>2</th>\n",
       "      <td>It is worth the money!</td>\n",
       "      <td>Good</td>\n",
       "    </tr>\n",
       "    <tr>\n",
       "      <th>3</th>\n",
       "      <td>Delivered product is not genuine</td>\n",
       "      <td>Poor</td>\n",
       "    </tr>\n",
       "    <tr>\n",
       "      <th>4</th>\n",
       "      <td>I'm not satisifed with the build quality</td>\n",
       "      <td>Poor</td>\n",
       "    </tr>\n",
       "  </tbody>\n",
       "</table>\n",
       "</div>"
      ],
      "text/plain": [
       "                                             Reviews   Rating\n",
       "0  The product is fairly good but it has scratche...  Average\n",
       "1                Not same as told in the description     Poor\n",
       "2                             It is worth the money!     Good\n",
       "3                   Delivered product is not genuine     Poor\n",
       "4           I'm not satisifed with the build quality     Poor"
      ]
     },
     "execution_count": 7,
     "metadata": {},
     "output_type": "execute_result"
    }
   ],
   "source": [
    "#view top 5 dataset\n",
    "df.head()"
   ]
  },
  {
   "cell_type": "code",
   "execution_count": 8,
   "id": "6a37c081",
   "metadata": {},
   "outputs": [
    {
     "data": {
      "text/plain": [
       "(20, 2)"
      ]
     },
     "execution_count": 8,
     "metadata": {},
     "output_type": "execute_result"
    }
   ],
   "source": [
    "#check total rows and col\n",
    "df.shape"
   ]
  },
  {
   "cell_type": "code",
   "execution_count": 9,
   "id": "baa9080d",
   "metadata": {},
   "outputs": [],
   "source": [
    "x = df['Reviews']\n"
   ]
  },
  {
   "cell_type": "code",
   "execution_count": 10,
   "id": "ff190015",
   "metadata": {},
   "outputs": [],
   "source": [
    "#feature extraction\n",
    "vec =CountVectorizer()\n",
    "vec.fit(x)\n",
    "vec_x = vec.transform(x)"
   ]
  },
  {
   "cell_type": "code",
   "execution_count": 14,
   "id": "3773d879",
   "metadata": {},
   "outputs": [],
   "source": [
    "#TF IDF extraction\n",
    "Tfidf = TfidfTransformer()\n",
    "Tfidf.fit(vec_x)\n",
    "rev = Tfidf.transform(vec_x)"
   ]
  },
  {
   "cell_type": "code",
   "execution_count": 16,
   "id": "55b19107",
   "metadata": {},
   "outputs": [],
   "source": [
    "y = df['Rating'].tolist()"
   ]
  },
  {
   "cell_type": "code",
   "execution_count": 23,
   "id": "b4474f25",
   "metadata": {},
   "outputs": [],
   "source": [
    "from sklearn.tree import DecisionTreeClassifier"
   ]
  },
  {
   "cell_type": "code",
   "execution_count": 24,
   "id": "142ee84b",
   "metadata": {},
   "outputs": [
    {
     "data": {
      "text/plain": [
       "DecisionTreeClassifier()"
      ]
     },
     "execution_count": 24,
     "metadata": {},
     "output_type": "execute_result"
    }
   ],
   "source": [
    "Model = DecisionTreeClassifier()\n",
    "Model.fit(rev,y)"
   ]
  },
  {
   "cell_type": "code",
   "execution_count": 25,
   "id": "37173649",
   "metadata": {},
   "outputs": [
    {
     "data": {
      "text/plain": [
       "array(['Poor'], dtype='<U7')"
      ]
     },
     "execution_count": 25,
     "metadata": {},
     "output_type": "execute_result"
    }
   ],
   "source": [
    "#checking model\n",
    "tmp = [\"The product is not in good condition\"]\n",
    "tmp_ex =vec.transform(tmp)\n",
    "tmp_tf = Tfidf.transform(tmp_ex)\n",
    "Model.predict(tmp_tf)\n"
   ]
  },
  {
   "cell_type": "code",
   "execution_count": 32,
   "id": "372bfb0a",
   "metadata": {},
   "outputs": [],
   "source": [
    "def rate(*comment):\n",
    "    f_ex =vec.transform(comment)\n",
    "    tf = Tfidf.transform(f_ex)\n",
    "    pred = Model.predict(tf)\n",
    "    for rev,ret in zip(comment,pred):\n",
    "        print('Review->',rev,'\\n','Rating->',ret,'\\n')"
   ]
  },
  {
   "cell_type": "code",
   "execution_count": 33,
   "id": "77e395ca",
   "metadata": {},
   "outputs": [
    {
     "name": "stdout",
     "output_type": "stream",
     "text": [
      "Review-> Not in good condition \n",
      " Rating-> Poor \n",
      "\n",
      "Review-> satisfactory \n",
      " Rating-> Good \n",
      "\n",
      "Review-> Mindblowing \n",
      " Rating-> Good \n",
      "\n"
     ]
    }
   ],
   "source": [
    "rate('Not in good condition','satisfactory','Mindblowing')"
   ]
  },
  {
   "cell_type": "code",
   "execution_count": null,
   "id": "86e2e679",
   "metadata": {},
   "outputs": [],
   "source": []
  }
 ],
 "metadata": {
  "kernelspec": {
   "display_name": "Python 3",
   "language": "python",
   "name": "python3"
  },
  "language_info": {
   "codemirror_mode": {
    "name": "ipython",
    "version": 3
   },
   "file_extension": ".py",
   "mimetype": "text/x-python",
   "name": "python",
   "nbconvert_exporter": "python",
   "pygments_lexer": "ipython3",
   "version": "3.8.8"
  }
 },
 "nbformat": 4,
 "nbformat_minor": 5
}
